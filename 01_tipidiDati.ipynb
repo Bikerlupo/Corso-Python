{
 "cells": [
  {
   "cell_type": "markdown",
   "id": "d4d50187",
   "metadata": {},
   "source": [
    "DEFINIZIONE DI UNA VARIABILE"
   ]
  },
  {
   "cell_type": "code",
   "execution_count": 1,
   "id": "2c48ee17",
   "metadata": {},
   "outputs": [
    {
     "name": "stdout",
     "output_type": "stream",
     "text": [
      "5\n"
     ]
    }
   ],
   "source": [
    "x = 5\n",
    "#assegno il valore 5 a X\n",
    "#uso la FUNZIONE Print per stampare il valore\n",
    "print(x)"
   ]
  },
  {
   "cell_type": "markdown",
   "id": "65b5ac2c",
   "metadata": {},
   "source": [
    "print()"
   ]
  },
  {
   "cell_type": "code",
   "execution_count": null,
   "id": "c57aeffb",
   "metadata": {},
   "outputs": [
    {
     "name": "stdout",
     "output_type": "stream",
     "text": [
      "Chiara\n"
     ]
    }
   ],
   "source": [
    "x = \"Chiara\"\n",
    "#assegno ad x un valore di tipo stringa\n",
    "print(x)"
   ]
  },
  {
   "cell_type": "markdown",
   "id": "49f7ec51",
   "metadata": {},
   "source": [
    "Type()"
   ]
  },
  {
   "cell_type": "code",
   "execution_count": 3,
   "id": "64f833d1",
   "metadata": {},
   "outputs": [
    {
     "data": {
      "text/plain": [
       "str"
      ]
     },
     "execution_count": 3,
     "metadata": {},
     "output_type": "execute_result"
    }
   ],
   "source": [
    "type(x)\n",
    "#con type() riesco ad estrapolare che tipo di variabile è x"
   ]
  },
  {
   "cell_type": "markdown",
   "id": "6a9a639c",
   "metadata": {},
   "source": [
    "Numeri Float e Interi"
   ]
  },
  {
   "cell_type": "code",
   "execution_count": 4,
   "id": "cf9a4bbd",
   "metadata": {},
   "outputs": [
    {
     "data": {
      "text/plain": [
       "float"
      ]
     },
     "execution_count": 4,
     "metadata": {},
     "output_type": "execute_result"
    }
   ],
   "source": [
    "type(1.5)"
   ]
  },
  {
   "cell_type": "code",
   "execution_count": 5,
   "id": "a53e62c7",
   "metadata": {},
   "outputs": [
    {
     "data": {
      "text/plain": [
       "complex"
      ]
     },
     "execution_count": 5,
     "metadata": {},
     "output_type": "execute_result"
    }
   ],
   "source": [
    "type(2j) \n",
    "#j viene utilizzata per indicare i numeri complessi"
   ]
  },
  {
   "cell_type": "code",
   "execution_count": 6,
   "id": "dae563f9",
   "metadata": {},
   "outputs": [
    {
     "data": {
      "text/plain": [
       "(-1+0j)"
      ]
     },
     "execution_count": 6,
     "metadata": {},
     "output_type": "execute_result"
    }
   ],
   "source": [
    "1j * 1j"
   ]
  },
  {
   "cell_type": "markdown",
   "id": "77b98fbc",
   "metadata": {},
   "source": [
    "String"
   ]
  },
  {
   "cell_type": "code",
   "execution_count": null,
   "id": "770104b1",
   "metadata": {},
   "outputs": [
    {
     "data": {
      "text/plain": [
       "'francesco luciano'"
      ]
     },
     "execution_count": 7,
     "metadata": {},
     "output_type": "execute_result"
    }
   ],
   "source": [
    "x  = \"francesco\"\n",
    "y = \" luciano\"\n",
    "x + y #con il + concateno due stringhe"
   ]
  },
  {
   "cell_type": "markdown",
   "id": "63068c66",
   "metadata": {},
   "source": [
    "Boolean"
   ]
  },
  {
   "cell_type": "code",
   "execution_count": 8,
   "id": "708bf9b4",
   "metadata": {},
   "outputs": [
    {
     "data": {
      "text/plain": [
       "True"
      ]
     },
     "execution_count": 8,
     "metadata": {},
     "output_type": "execute_result"
    }
   ],
   "source": [
    "True\n",
    "#python è case sensitive, true è diverso da TRUE"
   ]
  },
  {
   "cell_type": "code",
   "execution_count": 9,
   "id": "309cbb55",
   "metadata": {},
   "outputs": [
    {
     "data": {
      "text/plain": [
       "True"
      ]
     },
     "execution_count": 9,
     "metadata": {},
     "output_type": "execute_result"
    }
   ],
   "source": [
    "1 == 1 "
   ]
  },
  {
   "cell_type": "code",
   "execution_count": 10,
   "id": "eb6bfb95",
   "metadata": {},
   "outputs": [
    {
     "data": {
      "text/plain": [
       "False"
      ]
     },
     "execution_count": 10,
     "metadata": {},
     "output_type": "execute_result"
    }
   ],
   "source": [
    "1 == 2"
   ]
  }
 ],
 "metadata": {
  "kernelspec": {
   "display_name": "Python 3",
   "language": "python",
   "name": "python3"
  },
  "language_info": {
   "codemirror_mode": {
    "name": "ipython",
    "version": 3
   },
   "file_extension": ".py",
   "mimetype": "text/x-python",
   "name": "python",
   "nbconvert_exporter": "python",
   "pygments_lexer": "ipython3",
   "version": "3.12.3"
  }
 },
 "nbformat": 4,
 "nbformat_minor": 5
}

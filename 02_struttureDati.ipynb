{
 "cells": [
  {
   "cell_type": "markdown",
   "id": "7a87576a",
   "metadata": {},
   "source": [
    "STRUTTURE DI DATI"
   ]
  },
  {
   "cell_type": "markdown",
   "id": "f336965a",
   "metadata": {},
   "source": [
    "LISTE"
   ]
  },
  {
   "cell_type": "code",
   "execution_count": null,
   "id": "f1263953",
   "metadata": {},
   "outputs": [],
   "source": [
    "#le liste si compongono con le parentesi quadre []"
   ]
  },
  {
   "cell_type": "code",
   "execution_count": null,
   "id": "718ba4bf",
   "metadata": {},
   "outputs": [
    {
     "name": "stdout",
     "output_type": "stream",
     "text": [
      "[1, 2, 3, 4]\n"
     ]
    }
   ],
   "source": [
    "my_list = [1,2,3,4] #creazione di liste numeriche\n",
    "print(my_list)"
   ]
  },
  {
   "cell_type": "code",
   "execution_count": 2,
   "id": "20e5172e",
   "metadata": {},
   "outputs": [
    {
     "name": "stdout",
     "output_type": "stream",
     "text": [
      "['ciao', 'tutto', 'bene']\n"
     ]
    }
   ],
   "source": [
    "my_list=[\"ciao\", \"tutto\", \"bene\"] #creazione di liste di stringhe\n",
    "print(my_list)"
   ]
  },
  {
   "cell_type": "code",
   "execution_count": 3,
   "id": "80b14766",
   "metadata": {},
   "outputs": [
    {
     "name": "stdout",
     "output_type": "stream",
     "text": [
      "[['el_lista1', 'el_lista1'], [1, 2, 3, 4], []]\n"
     ]
    }
   ],
   "source": [
    "my_list = [[\"el_lista1\", \"el_lista1\"],[1,2,3,4],[]] #esempio di lista di liste\n",
    "print(my_list)"
   ]
  },
  {
   "cell_type": "markdown",
   "id": "95978bec",
   "metadata": {},
   "source": [
    "funzione len()"
   ]
  },
  {
   "cell_type": "code",
   "execution_count": null,
   "id": "5f8e8e18",
   "metadata": {},
   "outputs": [
    {
     "data": {
      "text/plain": [
       "3"
      ]
     },
     "execution_count": 4,
     "metadata": {},
     "output_type": "execute_result"
    }
   ],
   "source": [
    "len(my_list) #con la funzione len estrapolo la lunghezza della lista, la lista sopra è composta da 3 elementi"
   ]
  },
  {
   "cell_type": "markdown",
   "id": "fc57ad57",
   "metadata": {},
   "source": [
    "funzione append()"
   ]
  },
  {
   "cell_type": "code",
   "execution_count": 15,
   "id": "7c455920",
   "metadata": {},
   "outputs": [
    {
     "name": "stdout",
     "output_type": "stream",
     "text": [
      "[['el_lista1', 'el_lista1'], [1, 2, 3, 4], [], 12, 12, 12]\n"
     ]
    }
   ],
   "source": [
    "my_list.append(12)\n",
    "print(my_list)"
   ]
  },
  {
   "cell_type": "markdown",
   "id": "671f9e98",
   "metadata": {},
   "source": [
    "SETS"
   ]
  },
  {
   "cell_type": "code",
   "execution_count": null,
   "id": "e8af59fd",
   "metadata": {},
   "outputs": [],
   "source": [
    "#i set si creano con le parentesi graffe {}"
   ]
  },
  {
   "cell_type": "code",
   "execution_count": 5,
   "id": "44af2d8d",
   "metadata": {},
   "outputs": [
    {
     "name": "stdout",
     "output_type": "stream",
     "text": [
      "{1, 2, 3, 4, 5}\n"
     ]
    }
   ],
   "source": [
    "my_set = {1,2,3,4,5}\n",
    "print(my_set)"
   ]
  },
  {
   "cell_type": "code",
   "execution_count": 6,
   "id": "0d1a5a8c",
   "metadata": {},
   "outputs": [
    {
     "data": {
      "text/plain": [
       "set"
      ]
     },
     "execution_count": 6,
     "metadata": {},
     "output_type": "execute_result"
    }
   ],
   "source": [
    "#posso utilizzare la funzione type su un tipo di set\n",
    "type(my_set)"
   ]
  },
  {
   "cell_type": "code",
   "execution_count": 7,
   "id": "c5c5fcb8",
   "metadata": {},
   "outputs": [
    {
     "data": {
      "text/plain": [
       "5"
      ]
     },
     "execution_count": 7,
     "metadata": {},
     "output_type": "execute_result"
    }
   ],
   "source": [
    "#posso utilizzare anche la funzione len per estrapolare la lunghezza di set\n",
    "len(my_set)"
   ]
  },
  {
   "cell_type": "code",
   "execution_count": 10,
   "id": "e2e1b867",
   "metadata": {},
   "outputs": [
    {
     "data": {
      "text/plain": [
       "True"
      ]
     },
     "execution_count": 10,
     "metadata": {},
     "output_type": "execute_result"
    }
   ],
   "source": [
    "#il confronto tra due list controlla che gli elementi siano uguali e nella stessa posizione\n",
    "[1,2,3] == [1,2,3]"
   ]
  },
  {
   "cell_type": "code",
   "execution_count": 9,
   "id": "d9178c86",
   "metadata": {},
   "outputs": [
    {
     "data": {
      "text/plain": [
       "False"
      ]
     },
     "execution_count": 9,
     "metadata": {},
     "output_type": "execute_result"
    }
   ],
   "source": [
    "[1,2,3] == [1,3,2]"
   ]
  },
  {
   "cell_type": "code",
   "execution_count": 11,
   "id": "91e3c4b7",
   "metadata": {},
   "outputs": [
    {
     "data": {
      "text/plain": [
       "True"
      ]
     },
     "execution_count": 11,
     "metadata": {},
     "output_type": "execute_result"
    }
   ],
   "source": [
    "\n",
    "#il confronto tra due set (insiemi), verifica se gli elementi del priomo elemento sono contenuti nel secono\n",
    "{1,2,3} == {1,2,2,2,2,3,3,3}"
   ]
  }
 ],
 "metadata": {
  "kernelspec": {
   "display_name": "Python 3",
   "language": "python",
   "name": "python3"
  },
  "language_info": {
   "codemirror_mode": {
    "name": "ipython",
    "version": 3
   },
   "file_extension": ".py",
   "mimetype": "text/x-python",
   "name": "python",
   "nbconvert_exporter": "python",
   "pygments_lexer": "ipython3",
   "version": "3.12.3"
  }
 },
 "nbformat": 4,
 "nbformat_minor": 5
}
